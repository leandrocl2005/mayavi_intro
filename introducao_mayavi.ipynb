{
 "cells": [
  {
   "cell_type": "markdown",
   "metadata": {},
   "source": [
    "<h3>Exemplos em Mayavi</h1>"
   ]
  },
  {
   "cell_type": "code",
   "execution_count": 1,
   "metadata": {},
   "outputs": [],
   "source": [
    "import numpy as np\n",
    "from mayavi import mlab"
   ]
  },
  {
   "cell_type": "markdown",
   "metadata": {},
   "source": [
    "<h2>Superfícies</h2>"
   ]
  },
  {
   "cell_type": "markdown",
   "metadata": {},
   "source": [
    "<h3>Hiperboloide de uma folha</h3>"
   ]
  },
  {
   "cell_type": "code",
   "execution_count": null,
   "metadata": {},
   "outputs": [],
   "source": [
    "mlab.figure(bgcolor=(1, 1, 1))\n",
    "\n",
    "u, v = np.mgrid[-2:2:0.2, 0:2*np.pi+0.3:0.2]\n",
    "\n",
    "x = np.cosh(u) * np.cos(v)\n",
    "y = np.cosh(u) * np.sin(v)\n",
    "z = np.sinh(u)\n",
    "\n",
    "mlab.mesh(x, y, z, colormap='YlGnBu')\n",
    "mlab.show()"
   ]
  },
  {
   "cell_type": "markdown",
   "metadata": {},
   "source": [
    "<h3>Cilindro</h3>"
   ]
  },
  {
   "cell_type": "code",
   "execution_count": null,
   "metadata": {},
   "outputs": [],
   "source": [
    "mlab.figure(bgcolor=(1, 1, 1))\n",
    "\n",
    "u, v = np.mgrid[0:2*np.pi+0.3:0.2, 0:2:0.2]\n",
    "\n",
    "x = np.cos(u)\n",
    "y = np.sin(u)\n",
    "z = v\n",
    "\n",
    "mlab.mesh(x, y, z, colormap='YlGnBu')\n",
    "mlab.show()"
   ]
  },
  {
   "cell_type": "markdown",
   "metadata": {},
   "source": [
    "<h2>Curvas</h2>"
   ]
  },
  {
   "cell_type": "markdown",
   "metadata": {},
   "source": [
    "<h3>Helicóide</h3>"
   ]
  },
  {
   "cell_type": "code",
   "execution_count": null,
   "metadata": {},
   "outputs": [],
   "source": [
    "mlab.figure(bgcolor=(1,1,1))\n",
    "\n",
    "t = np.arange(0.0, 4 * np.pi, 0.05)\n",
    "\n",
    "x = np.cos(4*t) \n",
    "y = np.sin(4*t) \n",
    "z = t\n",
    "\n",
    "mlab.plot3d(\n",
    "    x, y, z,\n",
    "    np.sin(t),\n",
    "    tube_radius=0.1,\n",
    "    colormap=\"bone\"\n",
    ")\n",
    "mlab.show()"
   ]
  },
  {
   "cell_type": "markdown",
   "metadata": {},
   "source": [
    "<h3>Curva bonita</h3>"
   ]
  },
  {
   "cell_type": "code",
   "execution_count": null,
   "metadata": {},
   "outputs": [],
   "source": [
    "mlab.figure(bgcolor=(1, 1, 1))\n",
    "\n",
    "n_mer, n_long = 6, 11\n",
    "dphi = np.pi / 1000.0\n",
    "phi = np.arange(0.0, 2 * np.pi + 0.5 * dphi, dphi)\n",
    "mu = phi * n_mer\n",
    "x = np.cos(mu) * (1 + np.cos(n_long * mu / n_mer) * 0.5)\n",
    "y = np.sin(mu) * (1 + np.cos(n_long * mu / n_mer) * 0.5)\n",
    "z = np.sin(n_long * mu / n_mer) * 0.5\n",
    "\n",
    "mlab.plot3d(\n",
    "    x, y, z, np.sin(mu), tube_radius=0.025, colormap='Spectral'\n",
    ")\n",
    "mlab.show()"
   ]
  },
  {
   "cell_type": "markdown",
   "metadata": {},
   "source": [
    "<h2>Superfícies com gráficos de função</h2>"
   ]
  },
  {
   "cell_type": "markdown",
   "metadata": {},
   "source": [
    "<h3>Sela</h3>"
   ]
  },
  {
   "cell_type": "markdown",
   "metadata": {},
   "source": [
    "$$z = f(x,y) = y^2 - x^2$$"
   ]
  },
  {
   "cell_type": "code",
   "execution_count": 14,
   "metadata": {},
   "outputs": [],
   "source": [
    "def f(x, y):\n",
    "    return y ** 2 - x ** 2"
   ]
  },
  {
   "cell_type": "code",
   "execution_count": 15,
   "metadata": {},
   "outputs": [],
   "source": [
    "mlab.figure(bgcolor=(1, 1, 1))\n",
    "x, y = np.mgrid[-2:2:0.1, -2:2:0.1]\n",
    "mlab.surf(x, y, f, colormap='YlGnBu')\n",
    "mlab.show()"
   ]
  },
  {
   "cell_type": "code",
   "execution_count": null,
   "metadata": {},
   "outputs": [],
   "source": []
  }
 ],
 "metadata": {
  "kernelspec": {
   "display_name": "Python 3",
   "language": "python",
   "name": "python3"
  },
  "language_info": {
   "codemirror_mode": {
    "name": "ipython",
    "version": 3
   },
   "file_extension": ".py",
   "mimetype": "text/x-python",
   "name": "python",
   "nbconvert_exporter": "python",
   "pygments_lexer": "ipython3",
   "version": "3.7.6"
  }
 },
 "nbformat": 4,
 "nbformat_minor": 4
}
